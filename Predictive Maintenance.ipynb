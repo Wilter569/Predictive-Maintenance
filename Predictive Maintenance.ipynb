{
  "cells": [
    {
      "cell_type": "code",
      "execution_count": 1,
      "metadata": {
        "id": "yFJA4ybvzLlk"
      },
      "outputs": [],
      "source": [
        "import pandas as pd\n",
        "import numpy as np\n",
        "from sklearn.model_selection import train_test_split\n",
        "from sklearn.ensemble import RandomForestClassifier\n",
        "from sklearn.metrics import accuracy_score, classification_report\n"
      ]
    },
    {
      "cell_type": "code",
      "execution_count": 3,
      "metadata": {
        "id": "QfzDl_XvzzYy"
      },
      "outputs": [],
      "source": [
        "import pandas as pd\n",
        "import numpy as np\n",
        "from datetime import datetime, timedelta\n",
        "\n",
        "# Set random seed for reproducibility\n",
        "np.random.seed(42)\n",
        "\n",
        "# Number of data points\n",
        "num_data_points = 1000\n",
        "\n",
        "# Create synthetic sensor data\n",
        "sensor_data = pd.DataFrame({\n",
        "    'Timestamp': pd.date_range(start=datetime.now(), periods=num_data_points, freq='H'),\n",
        "        'Temperature': np.random.normal(loc=25, scale=5, size=num_data_points),\n",
        "            'Pressure': np.random.normal(loc=100, scale=10, size=num_data_points),\n",
        "                'Vibration': np.random.normal(loc=0, scale=1, size=num_data_points),\n",
        "                })\n",
        "\n",
        "                # Create synthetic maintenance records\n",
        "maintenance_records = pd.DataFrame({\n",
        "    'Timestamp': pd.date_range(start=datetime.now(), periods=num_data_points//10, freq='D'),\n",
        "          'Maintenance_Type': np.random.choice(['Routine', 'Emergency'], size=num_data_points//10),\n",
        "            })\n",
        "\n",
        "                        # Merge sensor data and maintenance records\n",
        "df = pd.merge_asof(sensor_data, maintenance_records, on='Timestamp', direction='backward')\n",
        "\n",
        "                        # Fill NaN values in 'Maintenance_Type' with 'No Maintenance'\n",
        "df['Maintenance_Type'].fillna('No Maintenance', inplace=True)\n",
        "\n",
        "                        # Create binary target variable indicating failure (1) or not (0)\n",
        "df['Failure'] = np.where(df['Maintenance_Type'] == 'Emergency', 1, 0)\n",
        "\n",
        "                        # Save the synthetic dataset to a CSV file\n",
        "df.to_csv('data.csv', index=False)\n"
      ]
    },
    {
      "cell_type": "code",
      "execution_count": 4,
      "metadata": {
        "id": "zlEeG4Dx0AA4"
      },
      "outputs": [],
      "source": [
        "# Load the data into a pandas DataFrame\n",
        "df = pd.read_csv('data.csv')\n"
      ]
    },
    {
      "cell_type": "code",
      "execution_count": null,
      "metadata": {
        "colab": {
          "base_uri": "https://localhost:8080/"
        },
        "id": "H1eUPgmVzZe9",
        "outputId": "298f7da7-d77d-4e5e-a4c6-ee50a849f14f"
      },
      "outputs": [],
      "source": [
        "# Basic data exploration\n",
        "print(df.head())\n",
        "print(df.info())\n",
        "print(df.describe())\n"
      ]
    },
    {
      "cell_type": "code",
      "execution_count": 8,
      "metadata": {
        "id": "39vHQ8dQNTBd"
      },
      "outputs": [],
      "source": [
        "# Feature selection\n",
        "features = ['Temperature', 'Pressure', 'Vibration']\n",
        "X = df[features]\n",
        "y = df['Failure']"
      ]
    },
    {
      "cell_type": "code",
      "execution_count": null,
      "metadata": {
        "colab": {
          "base_uri": "https://localhost:8080/"
        },
        "id": "mG4MTnTkzdrL",
        "outputId": "cbd70817-4fae-460b-e238-a0fe58ed60e8"
      },
      "outputs": [],
      "source": [
        "# Example: Impute missing values with mean\n",
        "X.fillna(X.mean(), inplace=True)\n"
      ]
    },
    {
      "cell_type": "code",
      "execution_count": 10,
      "metadata": {
        "id": "9pKCxJXizjhU"
      },
      "outputs": [],
      "source": [
        "X_train, X_test, y_train, y_test = train_test_split(X, y, test_size=0.2, random_state=42)\n"
      ]
    },
    {
      "cell_type": "code",
      "execution_count": null,
      "metadata": {
        "colab": {
          "base_uri": "https://localhost:8080/",
          "height": 74
        },
        "id": "vt6DN7c8zmEl",
        "outputId": "874278f4-79f9-4bce-c59a-b9f56035fc79"
      },
      "outputs": [],
      "source": [
        "model = RandomForestClassifier(n_estimators=100, random_state=42)\n",
        "model.fit(X_train, y_train)\n"
      ]
    },
    {
      "cell_type": "code",
      "execution_count": null,
      "metadata": {
        "colab": {
          "base_uri": "https://localhost:8080/"
        },
        "id": "yj-Y1LpJzob5",
        "outputId": "fc07f039-0ba8-45de-f705-182df024fd02"
      },
      "outputs": [],
      "source": [
        "y_pred = model.predict(X_test)\n",
        "print(\"Accuracy:\", accuracy_score(y_test, y_pred))\n",
        "print(\"Classification Report:\\n\", classification_report(y_test, y_pred))\n"
      ]
    }
  ],
  "metadata": {
    "colab": {
      "provenance": []
    },
    "kernelspec": {
      "display_name": "Python 3",
      "name": "python3"
    },
    "language_info": {
      "name": "python"
    }
  },
  "nbformat": 4,
  "nbformat_minor": 0
}
